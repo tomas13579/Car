{
 "cells": [
  {
   "cell_type": "code",
   "execution_count": 1,
   "id": "59575902",
   "metadata": {},
   "outputs": [
    {
     "name": "stdout",
     "output_type": "stream",
     "text": [
      "Collecting luigi\n",
      "  Downloading luigi-3.1.0.tar.gz (1.2 MB)\n",
      "Requirement already satisfied: python-dateutil<3,>=2.7.5 in c:\\users\\tomas\\anaconda3\\lib\\site-packages (from luigi) (2.8.2)\n",
      "Collecting tenacity<9,>=8\n",
      "  Downloading tenacity-8.0.1-py3-none-any.whl (24 kB)\n",
      "Collecting python-daemon\n",
      "  Downloading python_daemon-2.3.1-py2.py3-none-any.whl (34 kB)\n",
      "Requirement already satisfied: tornado<7,>=5.0 in c:\\users\\tomas\\anaconda3\\lib\\site-packages (from luigi) (6.1)\n",
      "Requirement already satisfied: six>=1.5 in c:\\users\\tomas\\anaconda3\\lib\\site-packages (from python-dateutil<3,>=2.7.5->luigi) (1.16.0)\n",
      "Requirement already satisfied: setuptools in c:\\users\\tomas\\anaconda3\\lib\\site-packages (from python-daemon->luigi) (58.0.4)\n",
      "Collecting lockfile>=0.10\n",
      "  Downloading lockfile-0.12.2-py2.py3-none-any.whl (13 kB)\n",
      "Requirement already satisfied: docutils in c:\\users\\tomas\\anaconda3\\lib\\site-packages (from python-daemon->luigi) (0.18.1)\n",
      "Building wheels for collected packages: luigi\n",
      "  Building wheel for luigi (setup.py): started\n",
      "  Building wheel for luigi (setup.py): finished with status 'done'\n",
      "  Created wheel for luigi: filename=luigi-3.1.0-py3-none-any.whl size=1082166 sha256=b73420e8b1684f97db523bdce8847786c364a648fe84e7e8823bfe46f2614ef1\n",
      "  Stored in directory: c:\\users\\tomas\\appdata\\local\\pip\\cache\\wheels\\cf\\1c\\02\\92a434d134f17b69b6c27383d05d64223cf22fd1fd527ea75a\n",
      "Successfully built luigi\n",
      "Installing collected packages: lockfile, tenacity, python-daemon, luigi\n",
      "Successfully installed lockfile-0.12.2 luigi-3.1.0 python-daemon-2.3.1 tenacity-8.0.1\n",
      "Note: you may need to restart the kernel to use updated packages.\n"
     ]
    }
   ],
   "source": [
    "pip install luigi\n"
   ]
  },
  {
   "cell_type": "code",
   "execution_count": 70,
   "id": "99ca215a",
   "metadata": {},
   "outputs": [],
   "source": [
    "def f1(func):\n",
    "    def wrapper(*args):\n",
    "        print('S')\n",
    "        func(*args)\n",
    "        print('E')\n",
    "    return wrapper\n",
    "\n",
    "def tomas(x):\n",
    "    def inside(*args):\n",
    "        print(x(*args), 'HA')\n",
    "    return inside"
   ]
  },
  {
   "cell_type": "code",
   "execution_count": 71,
   "id": "a4060159",
   "metadata": {},
   "outputs": [],
   "source": [
    "# @tomas\n",
    "def f (a,b):\n",
    "    print(a+b)\n",
    "    \n",
    "# f= f1(f)\n"
   ]
  },
  {
   "cell_type": "code",
   "execution_count": 73,
   "id": "eecb5b7f",
   "metadata": {},
   "outputs": [
    {
     "name": "stdout",
     "output_type": "stream",
     "text": [
      "HIdick\n",
      "None HA\n"
     ]
    }
   ],
   "source": [
    "f('HI','dick')"
   ]
  },
  {
   "cell_type": "code",
   "execution_count": 72,
   "id": "84ea6129",
   "metadata": {},
   "outputs": [],
   "source": [
    "f = tomas(f)"
   ]
  },
  {
   "cell_type": "code",
   "execution_count": null,
   "id": "75b36d7e",
   "metadata": {},
   "outputs": [],
   "source": []
  }
 ],
 "metadata": {
  "kernelspec": {
   "display_name": "Python 3 (ipykernel)",
   "language": "python",
   "name": "python3"
  },
  "language_info": {
   "codemirror_mode": {
    "name": "ipython",
    "version": 3
   },
   "file_extension": ".py",
   "mimetype": "text/x-python",
   "name": "python",
   "nbconvert_exporter": "python",
   "pygments_lexer": "ipython3",
   "version": "3.8.5"
  }
 },
 "nbformat": 4,
 "nbformat_minor": 5
}
